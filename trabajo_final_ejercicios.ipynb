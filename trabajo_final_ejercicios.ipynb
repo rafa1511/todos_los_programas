{
  "nbformat": 4,
  "nbformat_minor": 0,
  "metadata": {
    "colab": {
      "name": "trabajo final.ipynb",
      "provenance": [],
      "collapsed_sections": []
    },
    "kernelspec": {
      "name": "python3",
      "display_name": "Python 3"
    }
  },
  "cells": [
    {
      "cell_type": "markdown",
      "metadata": {
        "id": "FcEQNy5nVjzY"
      },
      "source": [
        "Ejercicio 1: desarrolla un programa que lea un numero y diga si es par o impar."
      ]
    },
    {
      "cell_type": "code",
      "metadata": {
        "id": "nRlHDlivQcLu"
      },
      "source": [
        "numero=float(input(\"introduce cualquier numero:\"))\n",
        "if numero %2==0:\n",
        "  print(\"El numero\",numero,\"es par\")\n",
        "else:\n",
        "  print(\"el numero\",numero,\" es impar\")\n"
      ],
      "execution_count": null,
      "outputs": []
    },
    {
      "cell_type": "markdown",
      "metadata": {
        "id": "zZguGk8oWUDk"
      },
      "source": [
        "Ejercicio 2: Desarrollar un programa en el que el usuario introduzca una cadena de caracteres e introduzaca cuantas veces se replica esaa cadena.\n"
      ]
    },
    {
      "cell_type": "code",
      "metadata": {
        "id": "ZnJX9IgLZhYE",
        "outputId": "a962741d-641a-4b45-a586-0f04d8a1b01c",
        "colab": {
          "base_uri": "https://localhost:8080/"
        }
      },
      "source": [
        "cadena=input(\"introduce cualquier texto:\")\n",
        "veces=int(input(\"¿cuantas veces quiere mostrar el texto?\"))\n",
        "\n",
        "contador=0\n",
        "while contador<veces:\n",
        "  contador=contador+1\n",
        "  print(cadena)\n"
      ],
      "execution_count": 6,
      "outputs": [
        {
          "output_type": "stream",
          "text": [
            "introduce cualquier texto:palmer_prof\n",
            "¿cuantas veces quiere mostrar el texto?5\n",
            "palmer_prof\n",
            "palmer_prof\n",
            "palmer_prof\n",
            "palmer_prof\n",
            "palmer_prof\n"
          ],
          "name": "stdout"
        }
      ]
    },
    {
      "cell_type": "markdown",
      "metadata": {
        "id": "odPVnRDqnQsK"
      },
      "source": [
        "Ejercicio 3: escribir una funcion que reciba como argumentos el numero de horas y el costo por hora dejarlo como argumento predifinido de 150 la funcion debe regresar el pago del empleado en un dia, una semana(5)dias y en un mes(20 dias)   "
      ]
    },
    {
      "cell_type": "code",
      "metadata": {
        "id": "Owebx3rSoy7P",
        "outputId": "e2d35383-4a3d-4bda-c592-7861834037ba",
        "colab": {
          "base_uri": "https://localhost:8080/"
        }
      },
      "source": [
        "horas=float(input(\"ingrese el numero de horas laboradas:\"))\n",
        "phora=150 \n",
        "dia=(phora*horas)\n",
        "semana=(phora*horas*5)\n",
        "mes=(phora*horas*20)\n",
        "print(\"el pago por dia es:\",dia,\"$\")\n",
        "print(\"el pago por semana es:\",semana,\"$\")\n",
        "print(\"el pago por mes es:\",mes,\"$\")\n"
      ],
      "execution_count": 7,
      "outputs": [
        {
          "output_type": "stream",
          "text": [
            "ingrese el numero de horas laboradas:7\n",
            "el pago por dia es: 1050.0 $\n",
            "el pago por semana es: 5250.0 $\n",
            "el pago por mes es: 21000.0 $\n"
          ],
          "name": "stdout"
        }
      ]
    },
    {
      "cell_type": "markdown",
      "metadata": {
        "id": "AedgWH9ati1P"
      },
      "source": [
        "Ejercicio 4: Escribe el codigo de una calculadora que inicialmete muestre el menu y dependiedo de la eleccion elegida por el usuario se desarrolle la operacion(suma,resta,multipicacion, division), en la division no se puede dividir entre 0 "
      ]
    },
    {
      "cell_type": "code",
      "metadata": {
        "id": "Dky1gslZu-XI",
        "outputId": "18a6fb77-53bc-41e3-abb5-4025330eac89",
        "colab": {
          "base_uri": "https://localhost:8080/"
        }
      },
      "source": [
        "\n",
        "def sum(valor1,valor2 ):\n",
        "  print(valor1,\"+\",valor2,\":\",valor1 + valor2)\n",
        "\n",
        "def res(valor1,valor2):\n",
        "  print(valor1,\"-\",valor2,\":\",valor1 - valor2)\n",
        "\n",
        "def mult(valor1,valor2):\n",
        "  print(valor1,\"*\",valor2,\":\",valor1 * valor2)\n",
        "\n",
        "def div(numerador,denominador):\n",
        "  print(numerador,\"/\",denominador,\":\",numerador / denominador)\n",
        "\n",
        "print(\"¿Que operacion desea realizar?\")\n",
        "print(\"1. suma\")\n",
        "print(\"2. resta\")\n",
        "print(\"3. multiplicacion\") \n",
        "print(\"4. divisón\")\n",
        "\n",
        "\n",
        "n=float(input(\"seleccione alguna de las anteriores:\"))\n",
        "\n",
        "if n==1:\n",
        "  a=float(input(\"ingrese el primer valor: \"))\n",
        "  b=float(input(\"ingrese el segundo valor: \"))\n",
        "  sum(a,b) \n",
        "\n",
        "elif n==2:\n",
        "  a=float(input(\"ingrese el primer valor: \"))\n",
        "  b=float(input(\"ingrese el segundo valor: \"))\n",
        "  res(a,b)\n",
        "\n",
        "elif n==3:\n",
        "  a=float(input(\"ingrese el primer valor: \"))\n",
        "  b=float(input(\"ingrese el segundo valor: \"))\n",
        "  mult(a,b)\n",
        "\n",
        "elif n==4:\n",
        " \n",
        "  a=float(input(\"ingrese el numerador: \"))\n",
        "  b=float(input(\"ingrese el denominador: \"))\n",
        "  \n",
        "  while (b==0):\n",
        "    b=float(input(\"introduzaca un numero diferente de 0:\"))\n",
        "  \n",
        "  div(a,b)\n",
        "\n",
        "  \n"
      ],
      "execution_count": 11,
      "outputs": [
        {
          "output_type": "stream",
          "text": [
            "¿Que operacion desea realizar?\n",
            "1. suma\n",
            "2. resta\n",
            "3. multiplicacion\n",
            "4. divisón\n",
            "seleccione alguna de las anteriores:4\n",
            "ingrese el numerador: 4\n",
            "ingrese el denominador: 0\n",
            "introduzaca un numero diferente de 0:0\n",
            "introduzaca un numero diferente de 0:0\n",
            "introduzaca un numero diferente de 0:0\n",
            "introduzaca un numero diferente de 0:0\n",
            "introduzaca un numero diferente de 0:0\n",
            "introduzaca un numero diferente de 0:0\n",
            "introduzaca un numero diferente de 0:0\n",
            "introduzaca un numero diferente de 0:2\n",
            "4.0 / 2.0 : 2.0\n"
          ],
          "name": "stdout"
        }
      ]
    },
    {
      "cell_type": "markdown",
      "metadata": {
        "id": "44CD8CFabWfl"
      },
      "source": [
        "Ejercicio 5: una tienda de juguetes tiene dos productos estrella, un payaso y un juego de mesa, el payaso pesa 150 gr. y el juego de mesa pesa 170 gr. Hacer una funcion que reciba el numero de payasos y el numero de juegos de mesa por pedido. El peso total no debe de ser mayor a 10 kg, debe de mandar error, debe de indicar por cuantos gramos se pasó el envio y debe de regresar false al programa principal. "
      ]
    },
    {
      "cell_type": "code",
      "metadata": {
        "id": "3qvz64_EeTH7",
        "outputId": "8889f0de-2d58-4a3e-a796-386983ba3238",
        "colab": {
          "base_uri": "https://localhost:8080/"
        }
      },
      "source": [
        "payaso=150\n",
        "jmesa=170\n",
        "exces=10000\n",
        "\n",
        "def peso_total(a,b):\n",
        "  return (a*payaso+b*jmesa)\n",
        "   \n",
        "def analisis(tot):\n",
        "  if t<=exces:\n",
        "      print(\"continue con el pago\")\n",
        "      return t<=exces\n",
        "  else:\n",
        "      print(\"error, exceso de peso, se excede por: \",diferencia,\"gr\" )\n",
        "      return t<=exces\n",
        "\n",
        "a=int(input(\"ingrese el numero de payasos: \"))\n",
        "b=int(input(\"ingrese el numero de juegos de mesa: \"))\n",
        "\n",
        "t=peso_total(a,b)\n",
        "diferencia=(t-exces)\n",
        "final=analisis(t)\n",
        "print(final)\n",
        "\n"
      ],
      "execution_count": 14,
      "outputs": [
        {
          "output_type": "stream",
          "text": [
            "ingrese el numero de payasos: 30\n",
            "ingrese el numero de juegos de mesa: 33\n",
            "error, exceso de peso, se excede por:  110 gr\n",
            "False\n"
          ],
          "name": "stdout"
        }
      ]
    },
    {
      "cell_type": "markdown",
      "metadata": {
        "id": "m6QPsD9De9xl"
      },
      "source": [
        "Ejercicio 6: suponga que el impuesto que se debe pagar por el salario ganado este regido por la siguiente tabla..\n",
        "\n",
        "desarrolle una funcion que acepte como argumento el salario, y la funcion debe mostrar el rango en que se encuentra, y debe de regresar el salario con el descuento del impuesto, si la funcion se ha podido regresar con exito debe regresar true "
      ]
    },
    {
      "cell_type": "code",
      "metadata": {
        "id": "t_3FXA_7i0Ta"
      },
      "source": [
        "\n",
        "def pago_total(salario):\n",
        "\n",
        "  if sal<10000:\n",
        "    print(\"su rango es -10k\")\n",
        "    print(\"su pago -5% es: \",pag1,\"$\")\n",
        "    return(sal<10000)\n",
        "  \n",
        "  elif sal>=10000 and sal<=15000:\n",
        "    print(\"su rango es 10k-15k\")\n",
        "    print(\"su pago -10% es: \",pag2,\"%\")\n",
        "    return(sal>=10000 and sal<=15000) \n",
        "  \n",
        "  elif sal>15000 and sal<=20000:\n",
        "    print(\"su rango es 15k-20k\")\n",
        "    print(\"su pago -15% es: \",pag3,\"$\")\n",
        "    return(sal>15000 and sal<=20000)   \n",
        "    \n",
        "  elif sal>20000:\n",
        "    print(\"su rango es +20k\")\n",
        "    print(\"su pago -18% es: \",pag4,\"$\")\n",
        "    return(sal>20000) \n",
        "\n",
        "sal=float(input(\"ingrese el salario: \")) \n",
        "pag1=sal-(0.05*sal)\n",
        "pag2=sal-(0.1*sal)\n",
        "pag3=sal-(0.15*sal)\n",
        "pag4=sal-(0.18*sal)\n",
        "\n",
        "print(pago_total(sal))\n"
      ],
      "execution_count": null,
      "outputs": []
    },
    {
      "cell_type": "markdown",
      "metadata": {
        "id": "_BnQrlnsVcbQ"
      },
      "source": [
        "ejercicio 7 escribir un programa para un museo, donde se debe de mandar a una funcion los siguientes parametros, edad ocupacion. se deben de aplicar los siguientes costos y descuentos"
      ]
    },
    {
      "cell_type": "code",
      "metadata": {
        "id": "5jiE27z7XB5l"
      },
      "source": [
        "\n",
        "def datos(edad,ocupacion):\n",
        "  if edad<4:\n",
        "    print(\"edad:\",edad,\"ocupacion:\",ocupacion,\"paga:\",pag1)\n",
        "    return \"disfrute el recorrido\"   \n",
        "  elif edad>=4 and edad<=16:\n",
        "    print(\"edad:\",edad,\"ocupacion:\",ocupacion,\"paga:\",pag2-(des*pag2),\"$\")\n",
        "    return \"disfrute el recorrido\"\n",
        "  elif edad>16:\n",
        "    print(\"edad:\",edad,\"ocupacion:\",ocupacion,\"paga:\", pag3-(des*pag3),\"$\") \n",
        "    return \"disfrute el recorrido\" \n",
        "\n",
        "\n",
        "def descuento(opcion):\n",
        "  if n==1:\n",
        "    return 0.10\n",
        "  elif n==2:\n",
        "    return 0.30\n",
        "  elif n==3:\n",
        "    return 0.50\n",
        "  elif n==0:\n",
        "    return 0 \n",
        "\n",
        "pag1=\"gratis\"\n",
        "pag2=50\n",
        "pag3=100\n",
        "\n",
        "\n",
        "edad=int(input(\"ingrese la edad: \"))\n",
        "ocupacion=str(input(\"ingrese la ocupacion:  \"))\n",
        "\n",
        "print(\"\\ncuenta con algun documento de los siguientes conceptos: \")\n",
        "print(\"1.-estudiante con credencial\")\n",
        "print(\"2.-docente con credencial\")\n",
        "print(\"3.-INAPAM \\n\")\n",
        "n=int(input(\"si es asi seleccione uno, de lo contrario pulse 0:\"))\n",
        "\n",
        "des=descuento(n)\n",
        "\n",
        "print(datos(edad,ocupacion))\n"
      ],
      "execution_count": null,
      "outputs": []
    },
    {
      "cell_type": "markdown",
      "metadata": {
        "id": "WivV1ojE5KB8"
      },
      "source": [
        "ejercicio 8: \n",
        "escribir un programa que pida al usuario un numero entero y muestre en pantalla un triangulo rectangulo como el que se muestra. si el usuario teclea 4 se debe mostrar el siguinete patron "
      ]
    },
    {
      "cell_type": "code",
      "metadata": {
        "id": "ZLAKeaxp6FXL",
        "outputId": "ca85e4f1-2583-451b-8588-16f0959f9a98",
        "colab": {
          "base_uri": "https://localhost:8080/"
        }
      },
      "source": [
        "n=int(input(\"introduzca la catidad de lineas del triangulo: \"))\n",
        "\n",
        "\n",
        "for i in range(n+1):\n",
        "  print(\"<3\"*i)\n"
      ],
      "execution_count": 24,
      "outputs": [
        {
          "output_type": "stream",
          "text": [
            "introduzca la catidad de lineas del triangulo: 5\n",
            "\n",
            "<3\n",
            "<3<3\n",
            "<3<3<3\n",
            "<3<3<3<3\n",
            "<3<3<3<3<3\n"
          ],
          "name": "stdout"
        }
      ]
    },
    {
      "cell_type": "markdown",
      "metadata": {
        "id": "ebGmRpSYEOJi"
      },
      "source": [
        "Ejercicio 9: Escribir una funcion que reciba un numero entero positivo y devuelva su factorial."
      ]
    },
    {
      "cell_type": "code",
      "metadata": {
        "id": "VEWqdiSnEiZA",
        "outputId": "7867253c-c733-47b7-fe2f-39910c6b6994",
        "colab": {
          "base_uri": "https://localhost:8080/"
        }
      },
      "source": [
        "n=int(input(\"introduzaca un numero entero positivo: \"))\n",
        "fact=1\n",
        "\n",
        "for i in range(n):\n",
        "  fact=fact*n\n",
        "  n=n-1\n",
        "\n",
        "print(\"El factorial del numero introducido es: \",fact) \n"
      ],
      "execution_count": 25,
      "outputs": [
        {
          "output_type": "stream",
          "text": [
            "introduzaca un numero entero positivo: 4\n",
            "El factorial del numero introducido es:  24\n"
          ],
          "name": "stdout"
        }
      ]
    },
    {
      "cell_type": "markdown",
      "metadata": {
        "id": "-a4sr3uEJZjN"
      },
      "source": [
        "Ejercicio 10: Escribir una funcion que calcule el area de un circulo y otra que calcule la el volumen de un cilindro utilizando la primera funcion. "
      ]
    },
    {
      "cell_type": "code",
      "metadata": {
        "id": "kr4CCmSKKoBM",
        "outputId": "4480fff9-b65b-47b3-8f7b-26644419ba94",
        "colab": {
          "base_uri": "https://localhost:8080/"
        }
      },
      "source": [
        "\n",
        "\n",
        "def area(radio):\n",
        "  return pi*(radio**2) \n",
        "\n",
        "def volumen(altura):\n",
        "  return altura*area(radio)\n",
        "\n",
        "pi=3.14159\n",
        "\n",
        "print(\"que operacion desea realizar\")\n",
        "\n",
        "print(\"1.-Area de un circulo\")\n",
        "print(\"2.-volumen de un cilindro\")\n",
        "n=int(input(\"¿que opcion desea?: \"))\n",
        "\n",
        "\n",
        "if n==1:\n",
        "  radio=float(input(\"ingrese el radio del circulo: \"))\n",
        "  print(\"su area es: \",area(radio))\n",
        "else :\n",
        "  radio=float(input(\"ingrese el radio del cilindro: \"))\n",
        "  altura=float(input(\"ingrese la altura del cilindro: \"))\n",
        "  print(\"su volumen es: \",volumen(altura))\n",
        "\n"
      ],
      "execution_count": 28,
      "outputs": [
        {
          "output_type": "stream",
          "text": [
            "que operacion desea realizar\n",
            "1.-Area de un circulo\n",
            "2.-volumen de un cilindro\n",
            "¿que opcion desea?: 1\n",
            "ingrese el radio del circulo: 3\n",
            "su area es:  28.27431\n"
          ],
          "name": "stdout"
        }
      ]
    },
    {
      "cell_type": "markdown",
      "metadata": {
        "id": "GijjOYJPfpJ8"
      },
      "source": [
        ""
      ]
    }
  ]
}